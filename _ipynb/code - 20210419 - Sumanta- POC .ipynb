{
 "cells": [
  {
   "cell_type": "code",
   "execution_count": 134,
   "metadata": {},
   "outputs": [],
   "source": [
    "import pandas as pd\n",
    "import json"
   ]
  },
  {
   "cell_type": "markdown",
   "metadata": {},
   "source": [
    "### Reading Json files from Data.json"
   ]
  },
  {
   "cell_type": "code",
   "execution_count": 135,
   "metadata": {},
   "outputs": [],
   "source": [
    "filepath= 'Data.json'\n",
    "f_open = open(filepath,'r')\n",
    "loadfile = json.load(f_open)"
   ]
  },
  {
   "cell_type": "markdown",
   "metadata": {},
   "source": [
    "### Query No ::1 <br>\n",
    "        \n",
    "1) Calculate the BMI (Body Mass Index) using Formula 1, BMI Category and Health\n",
    "risk from Table 1 of the person and add them as 3 new columns"
   ]
  },
  {
   "cell_type": "markdown",
   "metadata": {},
   "source": [
    "### Load Data insde DataFrame for faster response and perform easy calculation"
   ]
  },
  {
   "cell_type": "code",
   "execution_count": 136,
   "metadata": {},
   "outputs": [],
   "source": [
    "#print(loadfile)"
   ]
  },
  {
   "cell_type": "code",
   "execution_count": 137,
   "metadata": {},
   "outputs": [],
   "source": [
    "dataframe = pd.DataFrame(loadfile)"
   ]
  },
  {
   "cell_type": "markdown",
   "metadata": {},
   "source": [
    "### Converting Height from cm to m2 and Calculating BMI"
   ]
  },
  {
   "cell_type": "code",
   "execution_count": 138,
   "metadata": {},
   "outputs": [],
   "source": [
    "dataframe['Heightm2']=dataframe['HeightCm']/100\n",
    "dataframe['BMIrate']= (dataframe['WeightKg']/dataframe['Heightm2']).apply(lambda x:round(x,2))"
   ]
  },
  {
   "cell_type": "code",
   "execution_count": 139,
   "metadata": {},
   "outputs": [
    {
     "data": {
      "text/html": [
       "<div>\n",
       "<style scoped>\n",
       "    .dataframe tbody tr th:only-of-type {\n",
       "        vertical-align: middle;\n",
       "    }\n",
       "\n",
       "    .dataframe tbody tr th {\n",
       "        vertical-align: top;\n",
       "    }\n",
       "\n",
       "    .dataframe thead th {\n",
       "        text-align: right;\n",
       "    }\n",
       "</style>\n",
       "<table border=\"1\" class=\"dataframe\">\n",
       "  <thead>\n",
       "    <tr style=\"text-align: right;\">\n",
       "      <th></th>\n",
       "      <th>Gender</th>\n",
       "      <th>WeightKg</th>\n",
       "      <th>Heightm2</th>\n",
       "      <th>BMIrate</th>\n",
       "    </tr>\n",
       "  </thead>\n",
       "  <tbody>\n",
       "    <tr>\n",
       "      <th>0</th>\n",
       "      <td>Male</td>\n",
       "      <td>96</td>\n",
       "      <td>1.71</td>\n",
       "      <td>56.14</td>\n",
       "    </tr>\n",
       "    <tr>\n",
       "      <th>1</th>\n",
       "      <td>Male</td>\n",
       "      <td>85</td>\n",
       "      <td>1.61</td>\n",
       "      <td>52.80</td>\n",
       "    </tr>\n",
       "    <tr>\n",
       "      <th>2</th>\n",
       "      <td>Male</td>\n",
       "      <td>77</td>\n",
       "      <td>1.80</td>\n",
       "      <td>42.78</td>\n",
       "    </tr>\n",
       "    <tr>\n",
       "      <th>3</th>\n",
       "      <td>Female</td>\n",
       "      <td>62</td>\n",
       "      <td>1.66</td>\n",
       "      <td>37.35</td>\n",
       "    </tr>\n",
       "    <tr>\n",
       "      <th>4</th>\n",
       "      <td>Female</td>\n",
       "      <td>70</td>\n",
       "      <td>1.50</td>\n",
       "      <td>46.67</td>\n",
       "    </tr>\n",
       "    <tr>\n",
       "      <th>5</th>\n",
       "      <td>Female</td>\n",
       "      <td>82</td>\n",
       "      <td>1.67</td>\n",
       "      <td>49.10</td>\n",
       "    </tr>\n",
       "  </tbody>\n",
       "</table>\n",
       "</div>"
      ],
      "text/plain": [
       "   Gender  WeightKg  Heightm2  BMIrate\n",
       "0    Male        96      1.71    56.14\n",
       "1    Male        85      1.61    52.80\n",
       "2    Male        77      1.80    42.78\n",
       "3  Female        62      1.66    37.35\n",
       "4  Female        70      1.50    46.67\n",
       "5  Female        82      1.67    49.10"
      ]
     },
     "execution_count": 139,
     "metadata": {},
     "output_type": "execute_result"
    }
   ],
   "source": [
    "dataframe.drop('HeightCm',axis=1)"
   ]
  },
  {
   "cell_type": "markdown",
   "metadata": {},
   "source": [
    "### Calculating BMI_Category and Health_risk inside dataframe using lambda function for less execution time"
   ]
  },
  {
   "cell_type": "code",
   "execution_count": 140,
   "metadata": {},
   "outputs": [],
   "source": [
    "dataframe['BMI_Category'] =  dataframe['BMIrate'].apply(lambda x: 'Underweight' if x<=18.4 else ('Normal weight' if x>=18.5 and x<=24.9 else('Overweight' if x>=25 and x<=29.9 else('Moderately obese' if x>=30 and x<=34.9 else('Severely obese' if x>=35 and x<=39.9 else 'Very severely obese' )))))\n",
    "dataframe['Health_risk'] =   dataframe['BMIrate'].apply(lambda x: 'Malnutrition risk' if x<=18.4 else ('Low risk' if x>=18.5 and x<=24.9 else('Enhanced risk' if x>=25 and x<=29.9 else('Medium risk' if x>=30 and x<=34.9 else('High risk' if x>=35 and x<=39.9 else 'Very high risk' )))))    "
   ]
  },
  {
   "cell_type": "code",
   "execution_count": 141,
   "metadata": {},
   "outputs": [
    {
     "data": {
      "text/html": [
       "<div>\n",
       "<style scoped>\n",
       "    .dataframe tbody tr th:only-of-type {\n",
       "        vertical-align: middle;\n",
       "    }\n",
       "\n",
       "    .dataframe tbody tr th {\n",
       "        vertical-align: top;\n",
       "    }\n",
       "\n",
       "    .dataframe thead th {\n",
       "        text-align: right;\n",
       "    }\n",
       "</style>\n",
       "<table border=\"1\" class=\"dataframe\">\n",
       "  <thead>\n",
       "    <tr style=\"text-align: right;\">\n",
       "      <th></th>\n",
       "      <th>Gender</th>\n",
       "      <th>HeightCm</th>\n",
       "      <th>WeightKg</th>\n",
       "      <th>Heightm2</th>\n",
       "      <th>BMIrate</th>\n",
       "      <th>BMI_Category</th>\n",
       "      <th>Health_risk</th>\n",
       "    </tr>\n",
       "  </thead>\n",
       "  <tbody>\n",
       "    <tr>\n",
       "      <th>0</th>\n",
       "      <td>Male</td>\n",
       "      <td>171</td>\n",
       "      <td>96</td>\n",
       "      <td>1.71</td>\n",
       "      <td>56.14</td>\n",
       "      <td>Very severely obese</td>\n",
       "      <td>Very high risk</td>\n",
       "    </tr>\n",
       "    <tr>\n",
       "      <th>1</th>\n",
       "      <td>Male</td>\n",
       "      <td>161</td>\n",
       "      <td>85</td>\n",
       "      <td>1.61</td>\n",
       "      <td>52.80</td>\n",
       "      <td>Very severely obese</td>\n",
       "      <td>Very high risk</td>\n",
       "    </tr>\n",
       "    <tr>\n",
       "      <th>2</th>\n",
       "      <td>Male</td>\n",
       "      <td>180</td>\n",
       "      <td>77</td>\n",
       "      <td>1.80</td>\n",
       "      <td>42.78</td>\n",
       "      <td>Very severely obese</td>\n",
       "      <td>Very high risk</td>\n",
       "    </tr>\n",
       "    <tr>\n",
       "      <th>3</th>\n",
       "      <td>Female</td>\n",
       "      <td>166</td>\n",
       "      <td>62</td>\n",
       "      <td>1.66</td>\n",
       "      <td>37.35</td>\n",
       "      <td>Severely obese</td>\n",
       "      <td>High risk</td>\n",
       "    </tr>\n",
       "    <tr>\n",
       "      <th>4</th>\n",
       "      <td>Female</td>\n",
       "      <td>150</td>\n",
       "      <td>70</td>\n",
       "      <td>1.50</td>\n",
       "      <td>46.67</td>\n",
       "      <td>Very severely obese</td>\n",
       "      <td>Very high risk</td>\n",
       "    </tr>\n",
       "    <tr>\n",
       "      <th>5</th>\n",
       "      <td>Female</td>\n",
       "      <td>167</td>\n",
       "      <td>82</td>\n",
       "      <td>1.67</td>\n",
       "      <td>49.10</td>\n",
       "      <td>Very severely obese</td>\n",
       "      <td>Very high risk</td>\n",
       "    </tr>\n",
       "  </tbody>\n",
       "</table>\n",
       "</div>"
      ],
      "text/plain": [
       "   Gender  HeightCm  WeightKg  Heightm2  BMIrate         BMI_Category  \\\n",
       "0    Male       171        96      1.71    56.14  Very severely obese   \n",
       "1    Male       161        85      1.61    52.80  Very severely obese   \n",
       "2    Male       180        77      1.80    42.78  Very severely obese   \n",
       "3  Female       166        62      1.66    37.35       Severely obese   \n",
       "4  Female       150        70      1.50    46.67  Very severely obese   \n",
       "5  Female       167        82      1.67    49.10  Very severely obese   \n",
       "\n",
       "      Health_risk  \n",
       "0  Very high risk  \n",
       "1  Very high risk  \n",
       "2  Very high risk  \n",
       "3       High risk  \n",
       "4  Very high risk  \n",
       "5  Very high risk  "
      ]
     },
     "execution_count": 141,
     "metadata": {},
     "output_type": "execute_result"
    }
   ],
   "source": [
    "dataframe"
   ]
  },
  {
   "cell_type": "code",
   "execution_count": 142,
   "metadata": {},
   "outputs": [
    {
     "data": {
      "text/plain": [
       "'[{\"Gender\":\"Male\",\"HeightCm\":171,\"WeightKg\":96,\"Heightm2\":1.71,\"BMIrate\":56.14,\"BMI_Category\":\"Very severely obese\",\"Health_risk\":\"Very high risk\"},{\"Gender\":\"Male\",\"HeightCm\":161,\"WeightKg\":85,\"Heightm2\":1.61,\"BMIrate\":52.8,\"BMI_Category\":\"Very severely obese\",\"Health_risk\":\"Very high risk\"},{\"Gender\":\"Male\",\"HeightCm\":180,\"WeightKg\":77,\"Heightm2\":1.8,\"BMIrate\":42.78,\"BMI_Category\":\"Very severely obese\",\"Health_risk\":\"Very high risk\"},{\"Gender\":\"Female\",\"HeightCm\":166,\"WeightKg\":62,\"Heightm2\":1.66,\"BMIrate\":37.35,\"BMI_Category\":\"Severely obese\",\"Health_risk\":\"High risk\"},{\"Gender\":\"Female\",\"HeightCm\":150,\"WeightKg\":70,\"Heightm2\":1.5,\"BMIrate\":46.67,\"BMI_Category\":\"Very severely obese\",\"Health_risk\":\"Very high risk\"},{\"Gender\":\"Female\",\"HeightCm\":167,\"WeightKg\":82,\"Heightm2\":1.67,\"BMIrate\":49.1,\"BMI_Category\":\"Very severely obese\",\"Health_risk\":\"Very high risk\"}]'"
      ]
     },
     "execution_count": 142,
     "metadata": {},
     "output_type": "execute_result"
    }
   ],
   "source": [
    "dataframe.to_json(orient='records')"
   ]
  },
  {
   "cell_type": "markdown",
   "metadata": {},
   "source": [
    "### Query No ::2 <br>\n",
    "2) Count the total number of overweight people using ranges in the column BMI\n",
    "Category of Table 1, check this is consistent programmatically and add any other\n",
    "observations in the documentation"
   ]
  },
  {
   "cell_type": "markdown",
   "metadata": {},
   "source": [
    "<font color='red'>We have multile solution for second query. Solution 1 and soution 2 are given below.</font>"
   ]
  },
  {
   "cell_type": "markdown",
   "metadata": {},
   "source": [
    "<font color='red'>Solution 1</font>"
   ]
  },
  {
   "cell_type": "code",
   "execution_count": 143,
   "metadata": {},
   "outputs": [
    {
     "data": {
      "text/html": [
       "<div>\n",
       "<style scoped>\n",
       "    .dataframe tbody tr th:only-of-type {\n",
       "        vertical-align: middle;\n",
       "    }\n",
       "\n",
       "    .dataframe tbody tr th {\n",
       "        vertical-align: top;\n",
       "    }\n",
       "\n",
       "    .dataframe thead th {\n",
       "        text-align: right;\n",
       "    }\n",
       "</style>\n",
       "<table border=\"1\" class=\"dataframe\">\n",
       "  <thead>\n",
       "    <tr style=\"text-align: right;\">\n",
       "      <th></th>\n",
       "      <th>BMI_Category</th>\n",
       "      <th>Count</th>\n",
       "    </tr>\n",
       "  </thead>\n",
       "  <tbody>\n",
       "    <tr>\n",
       "      <th>0</th>\n",
       "      <td>Severely obese</td>\n",
       "      <td>1</td>\n",
       "    </tr>\n",
       "    <tr>\n",
       "      <th>1</th>\n",
       "      <td>Very severely obese</td>\n",
       "      <td>5</td>\n",
       "    </tr>\n",
       "  </tbody>\n",
       "</table>\n",
       "</div>"
      ],
      "text/plain": [
       "          BMI_Category  Count\n",
       "0       Severely obese      1\n",
       "1  Very severely obese      5"
      ]
     },
     "execution_count": 143,
     "metadata": {},
     "output_type": "execute_result"
    }
   ],
   "source": [
    "df = dataframe.groupby(['BMI_Category'] ,as_index=False).count()[['BMI_Category','Gender']].rename(columns = {'Gender':'Count'}, inplace = False)\n",
    "df"
   ]
  },
  {
   "cell_type": "code",
   "execution_count": 155,
   "metadata": {},
   "outputs": [
    {
     "data": {
      "text/plain": [
       "0"
      ]
     },
     "execution_count": 155,
     "metadata": {},
     "output_type": "execute_result"
    }
   ],
   "source": [
    "testdata = 'Overweight'\n",
    "return_val = df[df['BMI_Category']==testdata]['Count']\n",
    "if return_val.empty:\n",
    "    lx=0\n",
    "else:\n",
    "    lx=int(return_val)\n",
    "\n",
    "lx"
   ]
  },
  {
   "cell_type": "markdown",
   "metadata": {},
   "source": [
    "<font color='red'>Solution 2</font>"
   ]
  },
  {
   "cell_type": "code",
   "execution_count": 156,
   "metadata": {},
   "outputs": [
    {
     "data": {
      "text/plain": [
       "0"
      ]
     },
     "execution_count": 156,
     "metadata": {},
     "output_type": "execute_result"
    }
   ],
   "source": [
    "return_val2 = len(list(filter(lambda x: True if x=='Overweight' else False , dataframe['BMI_Category'])))\n",
    "return_val2"
   ]
  },
  {
   "cell_type": "code",
   "execution_count": null,
   "metadata": {},
   "outputs": [],
   "source": []
  }
 ],
 "metadata": {
  "kernelspec": {
   "display_name": "Python 3",
   "language": "python",
   "name": "python3"
  },
  "language_info": {
   "codemirror_mode": {
    "name": "ipython",
    "version": 3
   },
   "file_extension": ".py",
   "mimetype": "text/x-python",
   "name": "python",
   "nbconvert_exporter": "python",
   "pygments_lexer": "ipython3",
   "version": "3.8.3"
  }
 },
 "nbformat": 4,
 "nbformat_minor": 4
}
